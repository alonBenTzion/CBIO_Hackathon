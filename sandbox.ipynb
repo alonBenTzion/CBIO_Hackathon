{
 "cells": [
  {
   "cell_type": "code",
   "execution_count": 1,
   "outputs": [],
   "source": [
    "import pandas as pd\n",
    "import numpy as np"
   ],
   "metadata": {
    "collapsed": false,
    "pycharm": {
     "name": "#%%\n"
    }
   }
  },
  {
   "cell_type": "code",
   "execution_count": 11,
   "outputs": [],
   "source": [
    "init_emissions = pd.read_csv(\"emissions-Table 1.csv\", index_col=0).iloc[:, :3]"
   ],
   "metadata": {
    "collapsed": false,
    "pycharm": {
     "name": "#%%\n"
    }
   }
  },
  {
   "cell_type": "code",
   "execution_count": 16,
   "outputs": [
    {
     "data": {
      "text/plain": "             A    R       N       D       C       Q       E        G       H  \\\nHelix  11.9464  5.8  3.7048  5.4004  1.0710  4.5632  8.6060   4.8794  2.0944   \nsheet   6.6272  4.6  2.6102  3.1698  1.5498  2.7968  4.6340   5.1942  2.3800   \nother   6.8016  4.4  5.5993  7.4549  1.1592  3.2752  5.6932  12.4346  2.5704   \n\n            I        L       K    M    F       P       S       T       W  \\\nHelix  5.2416  11.2644  6.2263  2.4  3.8  2.2278  5.2110  4.6872  1.3857   \nsheet  9.6096  10.3704  4.4080  2.0  5.6  2.0382  4.8636  6.6960  1.8923   \nother  3.4944   5.9898  5.5100  1.6  3.2  8.6742  6.7164  5.9706  1.1920   \n\n            Y        V  \nHelix  3.2806   6.2098  \nsheet  4.9558  14.0041  \nother  2.7920   5.4722  ",
      "text/html": "<div>\n<style scoped>\n    .dataframe tbody tr th:only-of-type {\n        vertical-align: middle;\n    }\n\n    .dataframe tbody tr th {\n        vertical-align: top;\n    }\n\n    .dataframe thead th {\n        text-align: right;\n    }\n</style>\n<table border=\"1\" class=\"dataframe\">\n  <thead>\n    <tr style=\"text-align: right;\">\n      <th></th>\n      <th>A</th>\n      <th>R</th>\n      <th>N</th>\n      <th>D</th>\n      <th>C</th>\n      <th>Q</th>\n      <th>E</th>\n      <th>G</th>\n      <th>H</th>\n      <th>I</th>\n      <th>L</th>\n      <th>K</th>\n      <th>M</th>\n      <th>F</th>\n      <th>P</th>\n      <th>S</th>\n      <th>T</th>\n      <th>W</th>\n      <th>Y</th>\n      <th>V</th>\n    </tr>\n  </thead>\n  <tbody>\n    <tr>\n      <th>Helix</th>\n      <td>11.9464</td>\n      <td>5.8</td>\n      <td>3.7048</td>\n      <td>5.4004</td>\n      <td>1.0710</td>\n      <td>4.5632</td>\n      <td>8.6060</td>\n      <td>4.8794</td>\n      <td>2.0944</td>\n      <td>5.2416</td>\n      <td>11.2644</td>\n      <td>6.2263</td>\n      <td>2.4</td>\n      <td>3.8</td>\n      <td>2.2278</td>\n      <td>5.2110</td>\n      <td>4.6872</td>\n      <td>1.3857</td>\n      <td>3.2806</td>\n      <td>6.2098</td>\n    </tr>\n    <tr>\n      <th>sheet</th>\n      <td>6.6272</td>\n      <td>4.6</td>\n      <td>2.6102</td>\n      <td>3.1698</td>\n      <td>1.5498</td>\n      <td>2.7968</td>\n      <td>4.6340</td>\n      <td>5.1942</td>\n      <td>2.3800</td>\n      <td>9.6096</td>\n      <td>10.3704</td>\n      <td>4.4080</td>\n      <td>2.0</td>\n      <td>5.6</td>\n      <td>2.0382</td>\n      <td>4.8636</td>\n      <td>6.6960</td>\n      <td>1.8923</td>\n      <td>4.9558</td>\n      <td>14.0041</td>\n    </tr>\n    <tr>\n      <th>other</th>\n      <td>6.8016</td>\n      <td>4.4</td>\n      <td>5.5993</td>\n      <td>7.4549</td>\n      <td>1.1592</td>\n      <td>3.2752</td>\n      <td>5.6932</td>\n      <td>12.4346</td>\n      <td>2.5704</td>\n      <td>3.4944</td>\n      <td>5.9898</td>\n      <td>5.5100</td>\n      <td>1.6</td>\n      <td>3.2</td>\n      <td>8.6742</td>\n      <td>6.7164</td>\n      <td>5.9706</td>\n      <td>1.1920</td>\n      <td>2.7920</td>\n      <td>5.4722</td>\n    </tr>\n  </tbody>\n</table>\n</div>"
     },
     "execution_count": 16,
     "metadata": {},
     "output_type": "execute_result"
    }
   ],
   "source": [
    "init_emissions.T"
   ],
   "metadata": {
    "collapsed": false,
    "pycharm": {
     "name": "#%%\n"
    }
   }
  },
  {
   "cell_type": "code",
   "execution_count": 17,
   "outputs": [
    {
     "name": "stdout",
     "output_type": "stream",
     "text": [
      "[[11.9464  5.8     3.7048  5.4004  1.071   4.5632  8.606   4.8794  2.0944\n",
      "   5.2416 11.2644  6.2263  2.4     3.8     2.2278  5.211   4.6872  1.3857\n",
      "   3.2806  6.2098]\n",
      " [ 6.6272  4.6     2.6102  3.1698  1.5498  2.7968  4.634   5.1942  2.38\n",
      "   9.6096 10.3704  4.408   2.      5.6     2.0382  4.8636  6.696   1.8923\n",
      "   4.9558 14.0041]\n",
      " [ 6.8016  4.4     5.5993  7.4549  1.1592  3.2752  5.6932 12.4346  2.5704\n",
      "   3.4944  5.9898  5.51    1.6     3.2     8.6742  6.7164  5.9706  1.192\n",
      "   2.792   5.4722]]\n"
     ]
    }
   ],
   "source": [
    "print(init_emissions.T.to_numpy())"
   ],
   "metadata": {
    "collapsed": false,
    "pycharm": {
     "name": "#%%\n"
    }
   }
  },
  {
   "cell_type": "code",
   "execution_count": 10,
   "outputs": [
    {
     "data": {
      "text/plain": "     Helix    sheet    other\nA  11.9464   6.6272   6.8016\nR   5.8000   4.6000   4.4000\nN   3.7048   2.6102   5.5993\nD   5.4004   3.1698   7.4549\nC   1.0710   1.5498   1.1592\nQ   4.5632   2.7968   3.2752\nE   8.6060   4.6340   5.6932\nG   4.8794   5.1942  12.4346\nH   2.0944   2.3800   2.5704\nI   5.2416   9.6096   3.4944\nL  11.2644  10.3704   5.9898\nK   6.2263   4.4080   5.5100\nM   2.4000   2.0000   1.6000\nF   3.8000   5.6000   3.2000\nP   2.2278   2.0382   8.6742\nS   5.2110   4.8636   6.7164\nT   4.6872   6.6960   5.9706\nW   1.3857   1.8923   1.1920\nY   3.2806   4.9558   2.7920\nV   6.2098  14.0041   5.4722",
      "text/html": "<div>\n<style scoped>\n    .dataframe tbody tr th:only-of-type {\n        vertical-align: middle;\n    }\n\n    .dataframe tbody tr th {\n        vertical-align: top;\n    }\n\n    .dataframe thead th {\n        text-align: right;\n    }\n</style>\n<table border=\"1\" class=\"dataframe\">\n  <thead>\n    <tr style=\"text-align: right;\">\n      <th></th>\n      <th>Helix</th>\n      <th>sheet</th>\n      <th>other</th>\n    </tr>\n  </thead>\n  <tbody>\n    <tr>\n      <th>A</th>\n      <td>11.9464</td>\n      <td>6.6272</td>\n      <td>6.8016</td>\n    </tr>\n    <tr>\n      <th>R</th>\n      <td>5.8000</td>\n      <td>4.6000</td>\n      <td>4.4000</td>\n    </tr>\n    <tr>\n      <th>N</th>\n      <td>3.7048</td>\n      <td>2.6102</td>\n      <td>5.5993</td>\n    </tr>\n    <tr>\n      <th>D</th>\n      <td>5.4004</td>\n      <td>3.1698</td>\n      <td>7.4549</td>\n    </tr>\n    <tr>\n      <th>C</th>\n      <td>1.0710</td>\n      <td>1.5498</td>\n      <td>1.1592</td>\n    </tr>\n    <tr>\n      <th>Q</th>\n      <td>4.5632</td>\n      <td>2.7968</td>\n      <td>3.2752</td>\n    </tr>\n    <tr>\n      <th>E</th>\n      <td>8.6060</td>\n      <td>4.6340</td>\n      <td>5.6932</td>\n    </tr>\n    <tr>\n      <th>G</th>\n      <td>4.8794</td>\n      <td>5.1942</td>\n      <td>12.4346</td>\n    </tr>\n    <tr>\n      <th>H</th>\n      <td>2.0944</td>\n      <td>2.3800</td>\n      <td>2.5704</td>\n    </tr>\n    <tr>\n      <th>I</th>\n      <td>5.2416</td>\n      <td>9.6096</td>\n      <td>3.4944</td>\n    </tr>\n    <tr>\n      <th>L</th>\n      <td>11.2644</td>\n      <td>10.3704</td>\n      <td>5.9898</td>\n    </tr>\n    <tr>\n      <th>K</th>\n      <td>6.2263</td>\n      <td>4.4080</td>\n      <td>5.5100</td>\n    </tr>\n    <tr>\n      <th>M</th>\n      <td>2.4000</td>\n      <td>2.0000</td>\n      <td>1.6000</td>\n    </tr>\n    <tr>\n      <th>F</th>\n      <td>3.8000</td>\n      <td>5.6000</td>\n      <td>3.2000</td>\n    </tr>\n    <tr>\n      <th>P</th>\n      <td>2.2278</td>\n      <td>2.0382</td>\n      <td>8.6742</td>\n    </tr>\n    <tr>\n      <th>S</th>\n      <td>5.2110</td>\n      <td>4.8636</td>\n      <td>6.7164</td>\n    </tr>\n    <tr>\n      <th>T</th>\n      <td>4.6872</td>\n      <td>6.6960</td>\n      <td>5.9706</td>\n    </tr>\n    <tr>\n      <th>W</th>\n      <td>1.3857</td>\n      <td>1.8923</td>\n      <td>1.1920</td>\n    </tr>\n    <tr>\n      <th>Y</th>\n      <td>3.2806</td>\n      <td>4.9558</td>\n      <td>2.7920</td>\n    </tr>\n    <tr>\n      <th>V</th>\n      <td>6.2098</td>\n      <td>14.0041</td>\n      <td>5.4722</td>\n    </tr>\n  </tbody>\n</table>\n</div>"
     },
     "execution_count": 10,
     "metadata": {},
     "output_type": "execute_result"
    }
   ],
   "source": [],
   "metadata": {
    "collapsed": false,
    "pycharm": {
     "name": "#%%\n"
    }
   }
  },
  {
   "cell_type": "code",
   "execution_count": null,
   "outputs": [],
   "source": [],
   "metadata": {
    "collapsed": false,
    "pycharm": {
     "name": "#%%\n"
    }
   }
  }
 ],
 "metadata": {
  "kernelspec": {
   "display_name": "Python 3",
   "language": "python",
   "name": "python3"
  },
  "language_info": {
   "codemirror_mode": {
    "name": "ipython",
    "version": 2
   },
   "file_extension": ".py",
   "mimetype": "text/x-python",
   "name": "python",
   "nbconvert_exporter": "python",
   "pygments_lexer": "ipython2",
   "version": "2.7.6"
  }
 },
 "nbformat": 4,
 "nbformat_minor": 0
}